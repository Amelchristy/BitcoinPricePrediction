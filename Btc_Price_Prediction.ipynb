{
 "cells": [
  {
   "cell_type": "code",
   "execution_count": null,
   "metadata": {},
   "outputs": [],
   "source": [
    "import math\n",
    "\n",
    "import numpy as np\n",
    "import pandas as pd\n",
    "from sklearn.preprocessing import MinMaxScaler\n",
    "from keras.models import Sequential\n",
    "from keras.layers import Dense, LSTM\n",
    "import matplotlib.pyplot as plt\n",
    "plt.style.use('fivethirtyeight')"
   ]
  },
  {
   "cell_type": "code",
   "execution_count": null,
   "metadata": {},
   "outputs": [],
   "source": [
    "# reading csv file from resources folder\n",
    "data= pd.read_csv('Resources/BTC-18-21.csv')\n",
    "df=data\n",
    "df.head(10)"
   ]
  },
  {
   "cell_type": "code",
   "execution_count": null,
   "metadata": {},
   "outputs": [],
   "source": [
    "df.shape"
   ]
  },
  {
   "cell_type": "code",
   "execution_count": null,
   "metadata": {},
   "outputs": [],
   "source": [
    "# Visualize the Closing price history for BTC\n",
    "plt.figure(figsize=(16,8))\n",
    "plt.title('Close Price History')\n",
    "plt.plot(df['Close'])\n",
    "plt.xlabel('Date', fontsize=18)\n",
    "plt.ylabel('Close Price USD ($)', fontsize =18)"
   ]
  },
  {
   "cell_type": "code",
   "execution_count": null,
   "metadata": {},
   "outputs": [],
   "source": [
    "data= df.filter(['Close'])\n",
    "dataset = data.values\n",
    "training_data_len = round(len(dataset)* .8)\n",
    "\n",
    "training_data_len"
   ]
  },
  {
   "cell_type": "code",
   "execution_count": null,
   "metadata": {},
   "outputs": [],
   "source": [
    "# Scale thd data\n",
    "scaler = MinMaxScaler(feature_range=(0,1))\n",
    "scaled_data = scaler.fit_transform(dataset)\n",
    "\n",
    "scaled_data"
   ]
  },
  {
   "cell_type": "code",
   "execution_count": 16,
   "metadata": {},
   "outputs": [
    {
     "name": "stdout",
     "output_type": "stream",
     "text": [
      "[array([0.13890785, 0.12391186, 0.11340492, 0.11234678, 0.10366314,\n",
      "       0.11678631, 0.10990808, 0.10971894, 0.09268421, 0.09325602,\n",
      "       0.09394639, 0.08618497, 0.09183473, 0.09932914, 0.1045373 ,\n",
      "       0.10482845, 0.1011305 , 0.10391395, 0.10001915, 0.09684549,\n",
      "       0.09157177, 0.08464105, 0.08687738, 0.0723519 , 0.06728442,\n",
      "       0.06881306, 0.06643198, 0.07084369, 0.07769983, 0.06660895,\n",
      "       0.06582871, 0.06260329, 0.06766322, 0.06973363, 0.06507847,\n",
      "       0.06625759, 0.06871711, 0.08567616, 0.08579973, 0.08746225,\n",
      "       0.09377624, 0.08879605, 0.08591261, 0.09072503, 0.09313538,\n",
      "       0.1032917 , 0.10420786, 0.10249304, 0.10485791, 0.11897531,\n",
      "       0.10329005, 0.1113148 , 0.10589228, 0.11254807, 0.11384818,\n",
      "       0.11056052, 0.10832234, 0.11047526, 0.11982905, 0.11903534])]\n",
      "[0.12193371058141059]\n",
      "\n",
      "[array([0.13890785, 0.12391186, 0.11340492, 0.11234678, 0.10366314,\n",
      "       0.11678631, 0.10990808, 0.10971894, 0.09268421, 0.09325602,\n",
      "       0.09394639, 0.08618497, 0.09183473, 0.09932914, 0.1045373 ,\n",
      "       0.10482845, 0.1011305 , 0.10391395, 0.10001915, 0.09684549,\n",
      "       0.09157177, 0.08464105, 0.08687738, 0.0723519 , 0.06728442,\n",
      "       0.06881306, 0.06643198, 0.07084369, 0.07769983, 0.06660895,\n",
      "       0.06582871, 0.06260329, 0.06766322, 0.06973363, 0.06507847,\n",
      "       0.06625759, 0.06871711, 0.08567616, 0.08579973, 0.08746225,\n",
      "       0.09377624, 0.08879605, 0.08591261, 0.09072503, 0.09313538,\n",
      "       0.1032917 , 0.10420786, 0.10249304, 0.10485791, 0.11897531,\n",
      "       0.10329005, 0.1113148 , 0.10589228, 0.11254807, 0.11384818,\n",
      "       0.11056052, 0.10832234, 0.11047526, 0.11982905, 0.11903534]), array([0.12391186, 0.11340492, 0.11234678, 0.10366314, 0.11678631,\n",
      "       0.10990808, 0.10971894, 0.09268421, 0.09325602, 0.09394639,\n",
      "       0.08618497, 0.09183473, 0.09932914, 0.1045373 , 0.10482845,\n",
      "       0.1011305 , 0.10391395, 0.10001915, 0.09684549, 0.09157177,\n",
      "       0.08464105, 0.08687738, 0.0723519 , 0.06728442, 0.06881306,\n",
      "       0.06643198, 0.07084369, 0.07769983, 0.06660895, 0.06582871,\n",
      "       0.06260329, 0.06766322, 0.06973363, 0.06507847, 0.06625759,\n",
      "       0.06871711, 0.08567616, 0.08579973, 0.08746225, 0.09377624,\n",
      "       0.08879605, 0.08591261, 0.09072503, 0.09313538, 0.1032917 ,\n",
      "       0.10420786, 0.10249304, 0.10485791, 0.11897531, 0.10329005,\n",
      "       0.1113148 , 0.10589228, 0.11254807, 0.11384818, 0.11056052,\n",
      "       0.10832234, 0.11047526, 0.11982905, 0.11903534, 0.12193371])]\n",
      "[0.12193371058141059, 0.11818898379853249]\n",
      "\n"
     ]
    }
   ],
   "source": [
    "#Create the training data set\n",
    "#Create the scaled training data set\n",
    "\n",
    "train_data = scaled_data[0:training_data_len , :]\n",
    "#split the data into x_train and y_train data sets\n",
    "x_train =[]\n",
    "y_train =[]\n",
    "\n",
    "for i in range(60, len(train_data)):\n",
    "    x_train.append(train_data[i-60:i, 0])\n",
    "    y_train.append(train_data[i, 0])\n",
    "    \n",
    "    if i <= 61:\n",
    "        print(x_train)\n",
    "        print(y_train)\n",
    "        print()"
   ]
  },
  {
   "cell_type": "code",
   "execution_count": 17,
   "metadata": {},
   "outputs": [],
   "source": [
    "# Convert the x_train and train to numpy arrays\n",
    "x_train, y_train = np.array(x_train), np.array(y_train)"
   ]
  },
  {
   "cell_type": "code",
   "execution_count": 19,
   "metadata": {},
   "outputs": [
    {
     "data": {
      "text/plain": [
       "(818, 60, 1)"
      ]
     },
     "execution_count": 19,
     "metadata": {},
     "output_type": "execute_result"
    }
   ],
   "source": [
    "#Reshape the data\n",
    "x_train = np.reshape(x_train,(x_train.shape[0], x_train.shape[1], 1))\n",
    "x_train.shape"
   ]
  },
  {
   "cell_type": "code",
   "execution_count": 20,
   "metadata": {},
   "outputs": [],
   "source": [
    "# Build the LSTM model\n",
    "model = Sequential()\n",
    "model.add(LSTM(50, return_sequences=True, input_shape = (x_train.shape[1], 1)))\n",
    "model.add(LSTM(50, return_sequences=False))\n",
    "model.add(Dense(25))\n",
    "model.add(Dense(25))\n"
   ]
  },
  {
   "cell_type": "code",
   "execution_count": 21,
   "metadata": {},
   "outputs": [],
   "source": [
    "#Compile the model\n",
    "model.compile(optimizer='adam', loss='mean_squared_error')"
   ]
  },
  {
   "cell_type": "code",
   "execution_count": 22,
   "metadata": {},
   "outputs": [
    {
     "name": "stdout",
     "output_type": "stream",
     "text": [
      "818/818 [==============================] - 22s 24ms/step - loss: nan\n"
     ]
    },
    {
     "data": {
      "text/plain": [
       "<tensorflow.python.keras.callbacks.History at 0x7f9b1729a4f0>"
      ]
     },
     "execution_count": 22,
     "metadata": {},
     "output_type": "execute_result"
    }
   ],
   "source": [
    "# Train the model\n",
    "model.fit(x_train, y_train, batch_size=1, epochs=1)"
   ]
  },
  {
   "cell_type": "code",
   "execution_count": 23,
   "metadata": {},
   "outputs": [],
   "source": [
    "# create the testing data set\n",
    "#create a new array containing scaled values\n",
    "\n",
    "test_data = scaled_data[training_data_len - 60: , :]\n",
    "#Create the data sets x_test and y_test\n",
    "x_test=[]\n",
    "y_test = dataset[training_data_len:, :]\n",
    "\n",
    "for i in range(60, len(test_data)):\n",
    "    x_test.append(test_data[i-60:i, 0])\n",
    "    "
   ]
  },
  {
   "cell_type": "code",
   "execution_count": 24,
   "metadata": {},
   "outputs": [],
   "source": [
    "#convert the data to a numpy array\n",
    "x_test = np.array(x_test)"
   ]
  },
  {
   "cell_type": "code",
   "execution_count": 25,
   "metadata": {},
   "outputs": [],
   "source": [
    "#Reshape the data\n",
    "x_test = np.reshape(x_test, (x_test.shape[0], x_test.shape[1],1))"
   ]
  },
  {
   "cell_type": "code",
   "execution_count": 26,
   "metadata": {},
   "outputs": [],
   "source": [
    "#get the models predicted price values\n",
    "predictions = model.predict(x_test)\n",
    "predictions = scaler.inverse_transform(predictions)"
   ]
  },
  {
   "cell_type": "code",
   "execution_count": null,
   "metadata": {},
   "outputs": [],
   "source": []
  }
 ],
 "metadata": {
  "kernelspec": {
   "display_name": "Python 3",
   "language": "python",
   "name": "python3"
  },
  "language_info": {
   "codemirror_mode": {
    "name": "ipython",
    "version": 3
   },
   "file_extension": ".py",
   "mimetype": "text/x-python",
   "name": "python",
   "nbconvert_exporter": "python",
   "pygments_lexer": "ipython3",
   "version": "3.8.3"
  }
 },
 "nbformat": 4,
 "nbformat_minor": 4
}
