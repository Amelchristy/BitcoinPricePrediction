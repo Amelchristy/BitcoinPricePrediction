{
 "cells": [
  {
   "cell_type": "code",
   "execution_count": 1,
   "metadata": {},
   "outputs": [],
   "source": [
    "# Importing the libraries\n",
    "import numpy as np\n",
    "import matplotlib.pyplot as plt\n",
    "import pandas as pd\n",
    "import datetime"
   ]
  },
  {
   "cell_type": "code",
   "execution_count": 2,
   "metadata": {},
   "outputs": [],
   "source": [
    "dataset = pd.read_csv('Resources/BTC-USD.csv',index_col=\"Date\",parse_dates=True)\n"
   ]
  },
  {
   "cell_type": "code",
   "execution_count": 3,
   "metadata": {},
   "outputs": [
    {
     "data": {
      "text/html": [
       "<div>\n",
       "<style scoped>\n",
       "    .dataframe tbody tr th:only-of-type {\n",
       "        vertical-align: middle;\n",
       "    }\n",
       "\n",
       "    .dataframe tbody tr th {\n",
       "        vertical-align: top;\n",
       "    }\n",
       "\n",
       "    .dataframe thead th {\n",
       "        text-align: right;\n",
       "    }\n",
       "</style>\n",
       "<table border=\"1\" class=\"dataframe\">\n",
       "  <thead>\n",
       "    <tr style=\"text-align: right;\">\n",
       "      <th></th>\n",
       "      <th>Open</th>\n",
       "      <th>High</th>\n",
       "      <th>Low</th>\n",
       "      <th>Close</th>\n",
       "      <th>Adj Close</th>\n",
       "      <th>Volume</th>\n",
       "    </tr>\n",
       "    <tr>\n",
       "      <th>Date</th>\n",
       "      <th></th>\n",
       "      <th></th>\n",
       "      <th></th>\n",
       "      <th></th>\n",
       "      <th></th>\n",
       "      <th></th>\n",
       "    </tr>\n",
       "  </thead>\n",
       "  <tbody>\n",
       "    <tr>\n",
       "      <th>2016-02-08</th>\n",
       "      <td>376.756989</td>\n",
       "      <td>379.878998</td>\n",
       "      <td>373.334015</td>\n",
       "      <td>373.446991</td>\n",
       "      <td>373.446991</td>\n",
       "      <td>47671100.0</td>\n",
       "    </tr>\n",
       "    <tr>\n",
       "      <th>2016-02-09</th>\n",
       "      <td>373.423004</td>\n",
       "      <td>377.246002</td>\n",
       "      <td>372.898010</td>\n",
       "      <td>376.028992</td>\n",
       "      <td>376.028992</td>\n",
       "      <td>55318500.0</td>\n",
       "    </tr>\n",
       "    <tr>\n",
       "      <th>2016-02-10</th>\n",
       "      <td>376.145996</td>\n",
       "      <td>385.483002</td>\n",
       "      <td>375.782990</td>\n",
       "      <td>381.648987</td>\n",
       "      <td>381.648987</td>\n",
       "      <td>85130896.0</td>\n",
       "    </tr>\n",
       "    <tr>\n",
       "      <th>2016-02-11</th>\n",
       "      <td>382.114014</td>\n",
       "      <td>383.130005</td>\n",
       "      <td>376.398987</td>\n",
       "      <td>379.653992</td>\n",
       "      <td>379.653992</td>\n",
       "      <td>74375600.0</td>\n",
       "    </tr>\n",
       "    <tr>\n",
       "      <th>2016-02-12</th>\n",
       "      <td>379.686005</td>\n",
       "      <td>384.954010</td>\n",
       "      <td>379.600006</td>\n",
       "      <td>384.263000</td>\n",
       "      <td>384.263000</td>\n",
       "      <td>67042800.0</td>\n",
       "    </tr>\n",
       "  </tbody>\n",
       "</table>\n",
       "</div>"
      ],
      "text/plain": [
       "                  Open        High         Low       Close   Adj Close  \\\n",
       "Date                                                                     \n",
       "2016-02-08  376.756989  379.878998  373.334015  373.446991  373.446991   \n",
       "2016-02-09  373.423004  377.246002  372.898010  376.028992  376.028992   \n",
       "2016-02-10  376.145996  385.483002  375.782990  381.648987  381.648987   \n",
       "2016-02-11  382.114014  383.130005  376.398987  379.653992  379.653992   \n",
       "2016-02-12  379.686005  384.954010  379.600006  384.263000  384.263000   \n",
       "\n",
       "                Volume  \n",
       "Date                    \n",
       "2016-02-08  47671100.0  \n",
       "2016-02-09  55318500.0  \n",
       "2016-02-10  85130896.0  \n",
       "2016-02-11  74375600.0  \n",
       "2016-02-12  67042800.0  "
      ]
     },
     "execution_count": 3,
     "metadata": {},
     "output_type": "execute_result"
    }
   ],
   "source": [
    "dataset.head()\n"
   ]
  },
  {
   "cell_type": "code",
   "execution_count": 87,
   "metadata": {},
   "outputs": [],
   "source": [
    "train_bitcoin = dataset"
   ]
  },
  {
   "cell_type": "code",
   "execution_count": 88,
   "metadata": {},
   "outputs": [
    {
     "data": {
      "text/plain": [
       "Open                  True\n",
       "High                  True\n",
       "Low                   True\n",
       "Close                 True\n",
       "Adj Close             True\n",
       "Volume                True\n",
       "Close: 30 Day Mean    True\n",
       "dtype: bool"
      ]
     },
     "execution_count": 88,
     "metadata": {},
     "output_type": "execute_result"
    }
   ],
   "source": [
    "dataset.isna().any()"
   ]
  },
  {
   "cell_type": "code",
   "execution_count": 89,
   "metadata": {},
   "outputs": [
    {
     "name": "stdout",
     "output_type": "stream",
     "text": [
      "<class 'pandas.core.frame.DataFrame'>\n",
      "DatetimeIndex: 1828 entries, 2016-02-08 to 2021-02-08\n",
      "Data columns (total 7 columns):\n",
      " #   Column              Non-Null Count  Dtype  \n",
      "---  ------              --------------  -----  \n",
      " 0   Open                1824 non-null   float64\n",
      " 1   High                1824 non-null   float64\n",
      " 2   Low                 1824 non-null   float64\n",
      " 3   Close               1824 non-null   float64\n",
      " 4   Adj Close           1824 non-null   float64\n",
      " 5   Volume              1824 non-null   float64\n",
      " 6   Close: 30 Day Mean  1735 non-null   float64\n",
      "dtypes: float64(7)\n",
      "memory usage: 114.2 KB\n"
     ]
    }
   ],
   "source": [
    "dataset.info()"
   ]
  },
  {
   "cell_type": "code",
   "execution_count": 90,
   "metadata": {},
   "outputs": [
    {
     "data": {
      "text/plain": [
       "<matplotlib.axes._subplots.AxesSubplot at 0x7feb8e18aa60>"
      ]
     },
     "execution_count": 90,
     "metadata": {},
     "output_type": "execute_result"
    },
    {
     "data": {
      "image/png": "[encoded data removed]",
      "text/plain": [
       "<Figure size 1152x432 with 1 Axes>"
      ]
     },
     "metadata": {
      "needs_background": "light"
     },
     "output_type": "display_data"
    }
   ],
   "source": [
    "dataset['Open'].plot(figsize=(16,6))"
   ]
  },
  {
   "cell_type": "code",
   "execution_count": 91,
   "metadata": {},
   "outputs": [],
   "source": [
    "# convert column \"a\" of a DataFrame\n",
    "#dataset[\"Close\"] = dataset[\"Close\"].str.replace(',', '').astype(float)\n"
   ]
  },
  {
   "cell_type": "code",
   "execution_count": 92,
   "metadata": {},
   "outputs": [],
   "source": [
    "#dataset[\"Volume\"] = dataset[\"Volume\"].str.replace(',', '').astype(float)"
   ]
  },
  {
   "cell_type": "code",
   "execution_count": 93,
   "metadata": {},
   "outputs": [
    {
     "data": {
      "text/html": [
       "<div>\n",
       "<style scoped>\n",
       "    .dataframe tbody tr th:only-of-type {\n",
       "        vertical-align: middle;\n",
       "    }\n",
       "\n",
       "    .dataframe tbody tr th {\n",
       "        vertical-align: top;\n",
       "    }\n",
       "\n",
       "    .dataframe thead th {\n",
       "        text-align: right;\n",
       "    }\n",
       "</style>\n",
       "<table border=\"1\" class=\"dataframe\">\n",
       "  <thead>\n",
       "    <tr style=\"text-align: right;\">\n",
       "      <th></th>\n",
       "      <th>Open</th>\n",
       "      <th>High</th>\n",
       "      <th>Low</th>\n",
       "      <th>Close</th>\n",
       "      <th>Adj Close</th>\n",
       "      <th>Volume</th>\n",
       "      <th>Close: 30 Day Mean</th>\n",
       "    </tr>\n",
       "    <tr>\n",
       "      <th>Date</th>\n",
       "      <th></th>\n",
       "      <th></th>\n",
       "      <th></th>\n",
       "      <th></th>\n",
       "      <th></th>\n",
       "      <th></th>\n",
       "      <th></th>\n",
       "    </tr>\n",
       "  </thead>\n",
       "  <tbody>\n",
       "    <tr>\n",
       "      <th>2016-02-08</th>\n",
       "      <td>NaN</td>\n",
       "      <td>NaN</td>\n",
       "      <td>NaN</td>\n",
       "      <td>NaN</td>\n",
       "      <td>NaN</td>\n",
       "      <td>NaN</td>\n",
       "      <td>NaN</td>\n",
       "    </tr>\n",
       "    <tr>\n",
       "      <th>2016-02-09</th>\n",
       "      <td>NaN</td>\n",
       "      <td>NaN</td>\n",
       "      <td>NaN</td>\n",
       "      <td>NaN</td>\n",
       "      <td>NaN</td>\n",
       "      <td>NaN</td>\n",
       "      <td>NaN</td>\n",
       "    </tr>\n",
       "    <tr>\n",
       "      <th>2016-02-10</th>\n",
       "      <td>NaN</td>\n",
       "      <td>NaN</td>\n",
       "      <td>NaN</td>\n",
       "      <td>NaN</td>\n",
       "      <td>NaN</td>\n",
       "      <td>NaN</td>\n",
       "      <td>NaN</td>\n",
       "    </tr>\n",
       "    <tr>\n",
       "      <th>2016-02-11</th>\n",
       "      <td>NaN</td>\n",
       "      <td>NaN</td>\n",
       "      <td>NaN</td>\n",
       "      <td>NaN</td>\n",
       "      <td>NaN</td>\n",
       "      <td>NaN</td>\n",
       "      <td>NaN</td>\n",
       "    </tr>\n",
       "    <tr>\n",
       "      <th>2016-02-12</th>\n",
       "      <td>NaN</td>\n",
       "      <td>NaN</td>\n",
       "      <td>NaN</td>\n",
       "      <td>NaN</td>\n",
       "      <td>NaN</td>\n",
       "      <td>NaN</td>\n",
       "      <td>NaN</td>\n",
       "    </tr>\n",
       "    <tr>\n",
       "      <th>2016-02-13</th>\n",
       "      <td>NaN</td>\n",
       "      <td>NaN</td>\n",
       "      <td>NaN</td>\n",
       "      <td>NaN</td>\n",
       "      <td>NaN</td>\n",
       "      <td>NaN</td>\n",
       "      <td>NaN</td>\n",
       "    </tr>\n",
       "    <tr>\n",
       "      <th>2016-02-14</th>\n",
       "      <td>380.814144</td>\n",
       "      <td>387.111716</td>\n",
       "      <td>379.369572</td>\n",
       "      <td>384.875994</td>\n",
       "      <td>384.875994</td>\n",
       "      <td>6.656006e+07</td>\n",
       "      <td>NaN</td>\n",
       "    </tr>\n",
       "    <tr>\n",
       "      <th>2016-02-15</th>\n",
       "      <td>385.215716</td>\n",
       "      <td>391.469147</td>\n",
       "      <td>382.857426</td>\n",
       "      <td>388.695709</td>\n",
       "      <td>388.695709</td>\n",
       "      <td>7.033140e+07</td>\n",
       "      <td>NaN</td>\n",
       "    </tr>\n",
       "    <tr>\n",
       "      <th>2016-02-16</th>\n",
       "      <td>389.217002</td>\n",
       "      <td>395.997576</td>\n",
       "      <td>386.933712</td>\n",
       "      <td>393.189854</td>\n",
       "      <td>393.189854</td>\n",
       "      <td>7.287063e+07</td>\n",
       "      <td>NaN</td>\n",
       "    </tr>\n",
       "    <tr>\n",
       "      <th>2016-02-17</th>\n",
       "      <td>393.718432</td>\n",
       "      <td>401.095289</td>\n",
       "      <td>391.362427</td>\n",
       "      <td>398.143141</td>\n",
       "      <td>398.143141</td>\n",
       "      <td>7.259387e+07</td>\n",
       "      <td>NaN</td>\n",
       "    </tr>\n",
       "    <tr>\n",
       "      <th>2016-02-18</th>\n",
       "      <td>398.641000</td>\n",
       "      <td>407.219003</td>\n",
       "      <td>396.968000</td>\n",
       "      <td>404.245854</td>\n",
       "      <td>404.245854</td>\n",
       "      <td>7.293344e+07</td>\n",
       "      <td>NaN</td>\n",
       "    </tr>\n",
       "    <tr>\n",
       "      <th>2016-02-19</th>\n",
       "      <td>404.790144</td>\n",
       "      <td>412.669002</td>\n",
       "      <td>402.397143</td>\n",
       "      <td>409.463283</td>\n",
       "      <td>409.463283</td>\n",
       "      <td>7.131466e+07</td>\n",
       "      <td>NaN</td>\n",
       "    </tr>\n",
       "    <tr>\n",
       "      <th>2016-02-20</th>\n",
       "      <td>410.070147</td>\n",
       "      <td>419.829577</td>\n",
       "      <td>407.677146</td>\n",
       "      <td>415.935285</td>\n",
       "      <td>415.935285</td>\n",
       "      <td>7.589757e+07</td>\n",
       "      <td>NaN</td>\n",
       "    </tr>\n",
       "    <tr>\n",
       "      <th>2016-02-21</th>\n",
       "      <td>416.476004</td>\n",
       "      <td>425.660431</td>\n",
       "      <td>412.840716</td>\n",
       "      <td>420.444999</td>\n",
       "      <td>420.444999</td>\n",
       "      <td>7.809056e+07</td>\n",
       "      <td>NaN</td>\n",
       "    </tr>\n",
       "    <tr>\n",
       "      <th>2016-02-22</th>\n",
       "      <td>420.964722</td>\n",
       "      <td>429.755288</td>\n",
       "      <td>417.864716</td>\n",
       "      <td>425.811140</td>\n",
       "      <td>425.811140</td>\n",
       "      <td>7.970694e+07</td>\n",
       "      <td>NaN</td>\n",
       "    </tr>\n",
       "    <tr>\n",
       "      <th>2016-02-23</th>\n",
       "      <td>426.225150</td>\n",
       "      <td>434.171430</td>\n",
       "      <td>420.206002</td>\n",
       "      <td>427.703709</td>\n",
       "      <td>427.703709</td>\n",
       "      <td>8.144291e+07</td>\n",
       "      <td>NaN</td>\n",
       "    </tr>\n",
       "    <tr>\n",
       "      <th>2016-02-24</th>\n",
       "      <td>428.125148</td>\n",
       "      <td>434.797573</td>\n",
       "      <td>421.223576</td>\n",
       "      <td>428.936994</td>\n",
       "      <td>428.936994</td>\n",
       "      <td>7.923578e+07</td>\n",
       "      <td>NaN</td>\n",
       "    </tr>\n",
       "    <tr>\n",
       "      <th>2016-02-25</th>\n",
       "      <td>429.334433</td>\n",
       "      <td>435.043714</td>\n",
       "      <td>421.906006</td>\n",
       "      <td>429.247140</td>\n",
       "      <td>429.247140</td>\n",
       "      <td>7.838513e+07</td>\n",
       "      <td>NaN</td>\n",
       "    </tr>\n",
       "    <tr>\n",
       "      <th>2016-02-26</th>\n",
       "      <td>429.605717</td>\n",
       "      <td>436.336286</td>\n",
       "      <td>422.479719</td>\n",
       "      <td>430.870998</td>\n",
       "      <td>430.870998</td>\n",
       "      <td>7.921008e+07</td>\n",
       "      <td>NaN</td>\n",
       "    </tr>\n",
       "    <tr>\n",
       "      <th>2016-02-27</th>\n",
       "      <td>431.211142</td>\n",
       "      <td>435.228712</td>\n",
       "      <td>423.408574</td>\n",
       "      <td>430.207428</td>\n",
       "      <td>430.207428</td>\n",
       "      <td>7.176744e+07</td>\n",
       "      <td>NaN</td>\n",
       "    </tr>\n",
       "  </tbody>\n",
       "</table>\n",
       "</div>"
      ],
      "text/plain": [
       "                  Open        High         Low       Close   Adj Close  \\\n",
       "Date                                                                     \n",
       "2016-02-08         NaN         NaN         NaN         NaN         NaN   \n",
       "2016-02-09         NaN         NaN         NaN         NaN         NaN   \n",
       "2016-02-10         NaN         NaN         NaN         NaN         NaN   \n",
       "2016-02-11         NaN         NaN         NaN         NaN         NaN   \n",
       "2016-02-12         NaN         NaN         NaN         NaN         NaN   \n",
       "2016-02-13         NaN         NaN         NaN         NaN         NaN   \n",
       "2016-02-14  380.814144  387.111716  379.369572  384.875994  384.875994   \n",
       "2016-02-15  385.215716  391.469147  382.857426  388.695709  388.695709   \n",
       "2016-02-16  389.217002  395.997576  386.933712  393.189854  393.189854   \n",
       "2016-02-17  393.718432  401.095289  391.362427  398.143141  398.143141   \n",
       "2016-02-18  398.641000  407.219003  396.968000  404.245854  404.245854   \n",
       "2016-02-19  404.790144  412.669002  402.397143  409.463283  409.463283   \n",
       "2016-02-20  410.070147  419.829577  407.677146  415.935285  415.935285   \n",
       "2016-02-21  416.476004  425.660431  412.840716  420.444999  420.444999   \n",
       "2016-02-22  420.964722  429.755288  417.864716  425.811140  425.811140   \n",
       "2016-02-23  426.225150  434.171430  420.206002  427.703709  427.703709   \n",
       "2016-02-24  428.125148  434.797573  421.223576  428.936994  428.936994   \n",
       "2016-02-25  429.334433  435.043714  421.906006  429.247140  429.247140   \n",
       "2016-02-26  429.605717  436.336286  422.479719  430.870998  430.870998   \n",
       "2016-02-27  431.211142  435.228712  423.408574  430.207428  430.207428   \n",
       "\n",
       "                  Volume  Close: 30 Day Mean  \n",
       "Date                                          \n",
       "2016-02-08           NaN                 NaN  \n",
       "2016-02-09           NaN                 NaN  \n",
       "2016-02-10           NaN                 NaN  \n",
       "2016-02-11           NaN                 NaN  \n",
       "2016-02-12           NaN                 NaN  \n",
       "2016-02-13           NaN                 NaN  \n",
       "2016-02-14  6.656006e+07                 NaN  \n",
       "2016-02-15  7.033140e+07                 NaN  \n",
       "2016-02-16  7.287063e+07                 NaN  \n",
       "2016-02-17  7.259387e+07                 NaN  \n",
       "2016-02-18  7.293344e+07                 NaN  \n",
       "2016-02-19  7.131466e+07                 NaN  \n",
       "2016-02-20  7.589757e+07                 NaN  \n",
       "2016-02-21  7.809056e+07                 NaN  \n",
       "2016-02-22  7.970694e+07                 NaN  \n",
       "2016-02-23  8.144291e+07                 NaN  \n",
       "2016-02-24  7.923578e+07                 NaN  \n",
       "2016-02-25  7.838513e+07                 NaN  \n",
       "2016-02-26  7.921008e+07                 NaN  \n",
       "2016-02-27  7.176744e+07                 NaN  "
      ]
     },
     "execution_count": 93,
     "metadata": {},
     "output_type": "execute_result"
    }
   ],
   "source": [
    "# 7 day rolling mean\n",
    "dataset.rolling(7).mean().head(20)"
   ]
  },
  {
   "cell_type": "code",
   "execution_count": 94,
   "metadata": {},
   "outputs": [
    {
     "data": {
      "text/plain": [
       "<matplotlib.axes._subplots.AxesSubplot at 0x7feb8eb73250>"
      ]
     },
     "execution_count": 94,
     "metadata": {},
     "output_type": "execute_result"
    },
    {
     "data": {
      "image/png": "[encoded data removed]",
      "text/plain": [
       "<Figure size 1152x432 with 1 Axes>"
      ]
     },
     "metadata": {
      "needs_background": "light"
     },
     "output_type": "display_data"
    }
   ],
   "source": [
    "dataset['Open'].plot(figsize=(16,6))\n",
    "dataset.rolling(window=30).mean()['Close'].plot()"
   ]
  },
  {
   "cell_type": "code",
   "execution_count": 95,
   "metadata": {},
   "outputs": [
    {
     "data": {
      "text/plain": [
       "<matplotlib.axes._subplots.AxesSubplot at 0x7feb8ee08b80>"
      ]
     },
     "execution_count": 95,
     "metadata": {},
     "output_type": "execute_result"
    },
    {
     "data": {
      "image/png": "[encoded data removed]",
      "text/plain": [
       "<Figure size 1152x432 with 1 Axes>"
      ]
     },
     "metadata": {
      "needs_background": "light"
     },
     "output_type": "display_data"
    }
   ],
   "source": [
    "dataset['Close: 30 Day Mean'] = dataset['Close'].rolling(window=30).mean()\n",
    "dataset[['Close','Close: 30 Day Mean']].plot(figsize=(16,6))"
   ]
  },
  {
   "cell_type": "code",
   "execution_count": 108,
   "metadata": {},
   "outputs": [
    {
     "data": {
      "text/plain": [
       "<matplotlib.axes._subplots.AxesSubplot at 0x7feb888cdeb0>"
      ]
     },
     "execution_count": 108,
     "metadata": {},
     "output_type": "execute_result"
    },
    {
     "data": {
      "image/png": "[encoded data removed]",
      "text/plain": [
       "<Figure size 1152x432 with 1 Axes>"
      ]
     },
     "metadata": {
      "needs_background": "light"
     },
     "output_type": "display_data"
    }
   ],
   "source": [
    "# specify a minimum number of periods\n",
    "dataset['Open'].expanding(min_periods=1).mean().plot(figsize=(16,6))"
   ]
  },
  {
   "cell_type": "code",
   "execution_count": 109,
   "metadata": {},
   "outputs": [
    {
     "data": {
      "text/html": [
       "<div>\n",
       "<style scoped>\n",
       "    .dataframe tbody tr th:only-of-type {\n",
       "        vertical-align: middle;\n",
       "    }\n",
       "\n",
       "    .dataframe tbody tr th {\n",
       "        vertical-align: top;\n",
       "    }\n",
       "\n",
       "    .dataframe thead th {\n",
       "        text-align: right;\n",
       "    }\n",
       "</style>\n",
       "<table border=\"1\" class=\"dataframe\">\n",
       "  <thead>\n",
       "    <tr style=\"text-align: right;\">\n",
       "      <th></th>\n",
       "      <th>Open</th>\n",
       "    </tr>\n",
       "    <tr>\n",
       "      <th>Date</th>\n",
       "      <th></th>\n",
       "    </tr>\n",
       "  </thead>\n",
       "  <tbody>\n",
       "    <tr>\n",
       "      <th>2016-02-08</th>\n",
       "      <td>376.756989</td>\n",
       "    </tr>\n",
       "    <tr>\n",
       "      <th>2016-02-09</th>\n",
       "      <td>373.423004</td>\n",
       "    </tr>\n",
       "    <tr>\n",
       "      <th>2016-02-10</th>\n",
       "      <td>376.145996</td>\n",
       "    </tr>\n",
       "    <tr>\n",
       "      <th>2016-02-11</th>\n",
       "      <td>382.114014</td>\n",
       "    </tr>\n",
       "    <tr>\n",
       "      <th>2016-02-12</th>\n",
       "      <td>379.686005</td>\n",
       "    </tr>\n",
       "  </tbody>\n",
       "</table>\n",
       "</div>"
      ],
      "text/plain": [
       "                  Open\n",
       "Date                  \n",
       "2016-02-08  376.756989\n",
       "2016-02-09  373.423004\n",
       "2016-02-10  376.145996\n",
       "2016-02-11  382.114014\n",
       "2016-02-12  379.686005"
      ]
     },
     "execution_count": 109,
     "metadata": {},
     "output_type": "execute_result"
    }
   ],
   "source": [
    "training_set=dataset['Open']\n",
    "training_set=pd.DataFrame(training_set)\n",
    "training_set.head()"
   ]
  },
  {
   "cell_type": "code",
   "execution_count": 110,
   "metadata": {},
   "outputs": [],
   "source": [
    "training_bitcoin = training_set"
   ]
  },
  {
   "cell_type": "code",
   "execution_count": 111,
   "metadata": {},
   "outputs": [],
   "source": [
    "#training_bitcoin.to_csv('Output/training_bitcoin.csv')"
   ]
  },
  {
   "cell_type": "code",
   "execution_count": 112,
   "metadata": {},
   "outputs": [],
   "source": [
    "# Feature Scaling\n",
    "from sklearn.preprocessing import MinMaxScaler\n",
    "sc = MinMaxScaler(feature_range = (0, 1))\n",
    "training_set_scaled = sc.fit_transform(training_set)"
   ]
  },
  {
   "cell_type": "code",
   "execution_count": 113,
   "metadata": {},
   "outputs": [],
   "source": [
    "# Creating a data structure with 60 timesteps and 1 output\n",
    "X_train = []\n",
    "y_train = []\n",
    "for i in range(60, 1258):\n",
    "    X_train.append(training_set_scaled[i-60:i, 0])\n",
    "    y_train.append(training_set_scaled[i, 0])\n",
    "X_train, y_train = np.array(X_train), np.array(y_train)\n",
    "\n",
    "# Reshaping\n",
    "X_train = np.reshape(X_train, (X_train.shape[0], X_train.shape[1], 1))"
   ]
  },
  {
   "cell_type": "code",
   "execution_count": 114,
   "metadata": {},
   "outputs": [
    {
     "data": {
      "text/plain": [
       "array([0.00122439, 0.00117253, 0.00114237, ..., 0.22510805, 0.2307319 ,\n",
       "       0.25437282])"
      ]
     },
     "execution_count": 114,
     "metadata": {},
     "output_type": "execute_result"
    }
   ],
   "source": [
    "y_train"
   ]
  },
  {
   "cell_type": "code",
   "execution_count": 115,
   "metadata": {},
   "outputs": [],
   "source": [
    "# Part 2 - Building the RNN\n",
    "\n",
    "# Importing the Keras libraries and packages\n",
    "from keras.models import Sequential\n",
    "from keras.layers import Dense\n",
    "from keras.layers import LSTM\n",
    "from keras.layers import Dropout\n",
    "\n"
   ]
  },
  {
   "cell_type": "code",
   "execution_count": 116,
   "metadata": {},
   "outputs": [],
   "source": [
    "# Initialising the RNN\n",
    "regressor = Sequential()\n",
    "\n"
   ]
  },
  {
   "cell_type": "code",
   "execution_count": 117,
   "metadata": {},
   "outputs": [],
   "source": [
    "# Adding the first LSTM layer and some Dropout regularisation\n",
    "regressor.add(LSTM(units = 50, return_sequences = True, input_shape = (X_train.shape[1], 1)))\n",
    "regressor.add(Dropout(0.2))\n",
    "\n",
    "# Adding a second LSTM layer and some Dropout regularisation\n",
    "regressor.add(LSTM(units = 50, return_sequences = True))\n",
    "regressor.add(Dropout(0.2))\n",
    "\n",
    "# Adding a third LSTM layer and some Dropout regularisation\n",
    "regressor.add(LSTM(units = 50, return_sequences = True))\n",
    "regressor.add(Dropout(0.2))\n",
    "\n",
    "# Adding a fourth LSTM layer and some Dropout regularisation\n",
    "regressor.add(LSTM(units = 50))\n",
    "regressor.add(Dropout(0.2))\n",
    "\n",
    "# Adding the output layer\n",
    "regressor.add(Dense(units = 1))\n",
    "\n"
   ]
  },
  {
   "cell_type": "code",
   "execution_count": 118,
   "metadata": {},
   "outputs": [
    {
     "name": "stdout",
     "output_type": "stream",
     "text": [
      "Epoch 1/100\n",
      "38/38 [==============================] - 10s 91ms/step - loss: 0.0072\n",
      "Epoch 2/100\n",
      "38/38 [==============================] - 4s 93ms/step - loss: 0.0012\n",
      "Epoch 3/100\n",
      "38/38 [==============================] - 3s 88ms/step - loss: 8.7581e-04\n",
      "Epoch 4/100\n",
      "38/38 [==============================] - 3s 89ms/step - loss: 8.2676e-04\n",
      "Epoch 5/100\n",
      "38/38 [==============================] - 3s 89ms/step - loss: 7.9416e-04\n",
      "Epoch 6/100\n",
      "38/38 [==============================] - 4s 103ms/step - loss: 8.6870e-04\n",
      "Epoch 7/100\n",
      "38/38 [==============================] - 3s 90ms/step - loss: 6.6071e-04\n",
      "Epoch 8/100\n",
      "38/38 [==============================] - 3s 88ms/step - loss: 6.3431e-04\n",
      "Epoch 9/100\n",
      "38/38 [==============================] - 3s 90ms/step - loss: 6.5721e-04\n",
      "Epoch 10/100\n",
      "38/38 [==============================] - 3s 91ms/step - loss: 5.6828e-04\n",
      "Epoch 11/100\n",
      "38/38 [==============================] - 3s 89ms/step - loss: 5.8459e-04\n",
      "Epoch 12/100\n",
      "38/38 [==============================] - 3s 88ms/step - loss: 5.9770e-04\n",
      "Epoch 13/100\n",
      "38/38 [==============================] - 3s 90ms/step - loss: 5.6994e-04\n",
      "Epoch 14/100\n",
      "38/38 [==============================] - 3s 87ms/step - loss: 5.5621e-04\n",
      "Epoch 15/100\n",
      "38/38 [==============================] - 3s 89ms/step - loss: 5.3624e-04\n",
      "Epoch 16/100\n",
      "38/38 [==============================] - 3s 88ms/step - loss: 4.4942e-04\n",
      "Epoch 17/100\n",
      "38/38 [==============================] - 3s 89ms/step - loss: 4.8837e-04\n",
      "Epoch 18/100\n",
      "38/38 [==============================] - 4s 96ms/step - loss: 3.9883e-04\n",
      "Epoch 19/100\n",
      "38/38 [==============================] - 4s 102ms/step - loss: 3.6189e-04\n",
      "Epoch 20/100\n",
      "38/38 [==============================] - 3s 89ms/step - loss: 4.7797e-04\n",
      "Epoch 21/100\n",
      "38/38 [==============================] - 3s 88ms/step - loss: 4.1791e-04\n",
      "Epoch 22/100\n",
      "38/38 [==============================] - 3s 91ms/step - loss: 5.4537e-04\n",
      "Epoch 23/100\n",
      "38/38 [==============================] - 3s 88ms/step - loss: 5.3200e-04\n",
      "Epoch 24/100\n",
      "38/38 [==============================] - 3s 89ms/step - loss: 4.6490e-04\n",
      "Epoch 25/100\n",
      "38/38 [==============================] - 3s 88ms/step - loss: 3.4540e-04\n",
      "Epoch 26/100\n",
      "38/38 [==============================] - 3s 88ms/step - loss: 3.5610e-04\n",
      "Epoch 27/100\n",
      "38/38 [==============================] - 4s 94ms/step - loss: 3.7655e-04\n",
      "Epoch 28/100\n",
      "38/38 [==============================] - 3s 89ms/step - loss: 4.4035e-04\n",
      "Epoch 29/100\n",
      "38/38 [==============================] - 3s 91ms/step - loss: 3.6958e-04\n",
      "Epoch 30/100\n",
      "38/38 [==============================] - 3s 89ms/step - loss: 4.2688e-04\n",
      "Epoch 31/100\n",
      "38/38 [==============================] - 3s 89ms/step - loss: 4.5114e-04\n",
      "Epoch 32/100\n",
      "38/38 [==============================] - 3s 88ms/step - loss: 3.5938e-04\n",
      "Epoch 33/100\n",
      "38/38 [==============================] - 3s 88ms/step - loss: 3.4289e-04\n",
      "Epoch 34/100\n",
      "38/38 [==============================] - 3s 88ms/step - loss: 2.4836e-04\n",
      "Epoch 35/100\n",
      "38/38 [==============================] - 3s 89ms/step - loss: 4.6043e-04\n",
      "Epoch 36/100\n",
      "38/38 [==============================] - 3s 88ms/step - loss: 3.3028e-04\n",
      "Epoch 37/100\n",
      "38/38 [==============================] - 3s 87ms/step - loss: 4.3465e-04\n",
      "Epoch 38/100\n",
      "38/38 [==============================] - 3s 87ms/step - loss: 3.1531e-04\n",
      "Epoch 39/100\n",
      "38/38 [==============================] - 3s 87ms/step - loss: 2.8303e-04\n",
      "Epoch 40/100\n",
      "38/38 [==============================] - 3s 88ms/step - loss: 3.4078e-04\n",
      "Epoch 41/100\n",
      "38/38 [==============================] - 3s 88ms/step - loss: 2.9679e-04\n",
      "Epoch 42/100\n",
      "38/38 [==============================] - 3s 87ms/step - loss: 3.6108e-04\n",
      "Epoch 43/100\n",
      "38/38 [==============================] - 3s 88ms/step - loss: 3.9377e-04\n",
      "Epoch 44/100\n",
      "38/38 [==============================] - 3s 90ms/step - loss: 2.9210e-04\n",
      "Epoch 45/100\n",
      "38/38 [==============================] - 3s 88ms/step - loss: 2.7580e-04\n",
      "Epoch 46/100\n",
      "38/38 [==============================] - 3s 88ms/step - loss: 3.5432e-04\n",
      "Epoch 47/100\n",
      "38/38 [==============================] - 4s 95ms/step - loss: 2.3664e-04\n",
      "Epoch 48/100\n",
      "38/38 [==============================] - 3s 88ms/step - loss: 3.6660e-04\n",
      "Epoch 49/100\n",
      "38/38 [==============================] - 3s 89ms/step - loss: 3.9905e-04\n",
      "Epoch 50/100\n",
      "38/38 [==============================] - 3s 89ms/step - loss: 2.7891e-04\n",
      "Epoch 51/100\n",
      "38/38 [==============================] - 3s 88ms/step - loss: 3.6976e-04\n",
      "Epoch 52/100\n",
      "38/38 [==============================] - 3s 88ms/step - loss: 3.3146e-04\n",
      "Epoch 53/100\n",
      "38/38 [==============================] - 4s 102ms/step - loss: 3.7860e-04\n",
      "Epoch 54/100\n",
      "38/38 [==============================] - 3s 90ms/step - loss: 3.0893e-04\n",
      "Epoch 55/100\n",
      "38/38 [==============================] - 3s 89ms/step - loss: 3.5862e-04\n",
      "Epoch 56/100\n",
      "38/38 [==============================] - 3s 89ms/step - loss: 3.6623e-04\n",
      "Epoch 57/100\n",
      "38/38 [==============================] - 3s 90ms/step - loss: 2.7847e-04\n",
      "Epoch 58/100\n",
      "38/38 [==============================] - 3s 91ms/step - loss: 2.8271e-04\n",
      "Epoch 59/100\n",
      "38/38 [==============================] - 3s 89ms/step - loss: 2.7832e-04\n",
      "Epoch 60/100\n",
      "38/38 [==============================] - 3s 89ms/step - loss: 2.5665e-04\n",
      "Epoch 61/100\n",
      "38/38 [==============================] - 4s 94ms/step - loss: 2.2260e-04\n",
      "Epoch 62/100\n",
      "38/38 [==============================] - 3s 89ms/step - loss: 3.0259e-04\n",
      "Epoch 63/100\n",
      "38/38 [==============================] - 3s 91ms/step - loss: 3.3871e-04\n",
      "Epoch 64/100\n",
      "38/38 [==============================] - 3s 90ms/step - loss: 2.8526e-04\n",
      "Epoch 65/100\n",
      "38/38 [==============================] - 4s 110ms/step - loss: 2.6302e-04\n",
      "Epoch 66/100\n",
      "38/38 [==============================] - 4s 115ms/step - loss: 3.3659e-04\n",
      "Epoch 67/100\n",
      "38/38 [==============================] - 4s 95ms/step - loss: 2.4998e-04\n",
      "Epoch 68/100\n",
      "38/38 [==============================] - 3s 91ms/step - loss: 3.4153e-04\n",
      "Epoch 69/100\n",
      "38/38 [==============================] - 3s 91ms/step - loss: 2.8637e-04\n",
      "Epoch 70/100\n",
      "38/38 [==============================] - 3s 90ms/step - loss: 2.0740e-04\n",
      "Epoch 71/100\n",
      "38/38 [==============================] - 3s 90ms/step - loss: 3.3939e-04\n",
      "Epoch 72/100\n",
      "38/38 [==============================] - 3s 90ms/step - loss: 2.3071e-04\n",
      "Epoch 73/100\n",
      "38/38 [==============================] - 3s 90ms/step - loss: 2.7257e-04\n",
      "Epoch 74/100\n",
      "38/38 [==============================] - 3s 90ms/step - loss: 2.0921e-04\n",
      "Epoch 75/100\n",
      "38/38 [==============================] - 3s 89ms/step - loss: 2.3781e-04\n",
      "Epoch 76/100\n",
      "38/38 [==============================] - 3s 90ms/step - loss: 2.5739e-04\n",
      "Epoch 77/100\n",
      "38/38 [==============================] - 3s 89ms/step - loss: 2.2303e-04\n",
      "Epoch 78/100\n",
      "38/38 [==============================] - 3s 91ms/step - loss: 2.6394e-04\n",
      "Epoch 79/100\n",
      "38/38 [==============================] - 3s 91ms/step - loss: 2.4381e-04\n",
      "Epoch 80/100\n",
      "38/38 [==============================] - 3s 90ms/step - loss: 2.2466e-04\n",
      "Epoch 81/100\n",
      "38/38 [==============================] - 3s 90ms/step - loss: 3.0330e-04\n",
      "Epoch 82/100\n",
      "38/38 [==============================] - 3s 89ms/step - loss: 2.0411e-04\n",
      "Epoch 83/100\n",
      "38/38 [==============================] - 3s 90ms/step - loss: 2.3617e-04\n",
      "Epoch 84/100\n",
      "38/38 [==============================] - 3s 90ms/step - loss: 2.4819e-04\n",
      "Epoch 85/100\n",
      "38/38 [==============================] - 3s 89ms/step - loss: 2.5972e-04\n",
      "Epoch 86/100\n",
      "38/38 [==============================] - 3s 88ms/step - loss: 2.1359e-04\n",
      "Epoch 87/100\n",
      "38/38 [==============================] - 3s 88ms/step - loss: 2.5627e-04\n",
      "Epoch 88/100\n",
      "38/38 [==============================] - 3s 89ms/step - loss: 2.8872e-04\n",
      "Epoch 89/100\n",
      "38/38 [==============================] - 3s 89ms/step - loss: 2.3225e-04\n",
      "Epoch 90/100\n",
      "38/38 [==============================] - 3s 90ms/step - loss: 2.4230e-04\n",
      "Epoch 91/100\n",
      "38/38 [==============================] - 3s 89ms/step - loss: 2.6079e-04\n",
      "Epoch 92/100\n",
      "38/38 [==============================] - 3s 88ms/step - loss: 2.6424e-04\n",
      "Epoch 93/100\n",
      "38/38 [==============================] - 3s 88ms/step - loss: 2.5842e-04\n",
      "Epoch 94/100\n",
      "38/38 [==============================] - 3s 88ms/step - loss: 2.0254e-04\n",
      "Epoch 95/100\n",
      "38/38 [==============================] - 3s 89ms/step - loss: 2.3935e-04\n",
      "Epoch 96/100\n"
     ]
    },
    {
     "name": "stdout",
     "output_type": "stream",
     "text": [
      "38/38 [==============================] - 3s 85ms/step - loss: 1.7138e-04\n",
      "Epoch 97/100\n",
      "38/38 [==============================] - 3s 85ms/step - loss: 2.1305e-04\n",
      "Epoch 98/100\n",
      "38/38 [==============================] - 3s 84ms/step - loss: 2.7769e-04\n",
      "Epoch 99/100\n",
      "38/38 [==============================] - 3s 84ms/step - loss: 2.2617e-04\n",
      "Epoch 100/100\n",
      "38/38 [==============================] - 3s 83ms/step - loss: 3.0395e-04\n"
     ]
    },
    {
     "data": {
      "text/plain": [
       "<tensorflow.python.keras.callbacks.History at 0x7feb8df09400>"
      ]
     },
     "execution_count": 118,
     "metadata": {},
     "output_type": "execute_result"
    }
   ],
   "source": [
    "# Compiling the RNN\n",
    "regressor.compile(optimizer = 'adam', loss = 'mean_squared_error')\n",
    "\n",
    "# Fitting the RNN to the Training set\n",
    "regressor.fit(X_train, y_train, epochs = 100, batch_size = 32)\n"
   ]
  },
  {
   "cell_type": "code",
   "execution_count": 119,
   "metadata": {},
   "outputs": [
    {
     "data": {
      "text/html": [
       "<div>\n",
       "<style scoped>\n",
       "    .dataframe tbody tr th:only-of-type {\n",
       "        vertical-align: middle;\n",
       "    }\n",
       "\n",
       "    .dataframe tbody tr th {\n",
       "        vertical-align: top;\n",
       "    }\n",
       "\n",
       "    .dataframe thead th {\n",
       "        text-align: right;\n",
       "    }\n",
       "</style>\n",
       "<table border=\"1\" class=\"dataframe\">\n",
       "  <thead>\n",
       "    <tr style=\"text-align: right;\">\n",
       "      <th></th>\n",
       "      <th>Open</th>\n",
       "      <th>High</th>\n",
       "      <th>Low</th>\n",
       "      <th>Close</th>\n",
       "      <th>Adj Close</th>\n",
       "      <th>Volume</th>\n",
       "    </tr>\n",
       "    <tr>\n",
       "      <th>Date</th>\n",
       "      <th></th>\n",
       "      <th></th>\n",
       "      <th></th>\n",
       "      <th></th>\n",
       "      <th></th>\n",
       "      <th></th>\n",
       "    </tr>\n",
       "  </thead>\n",
       "  <tbody>\n",
       "    <tr>\n",
       "      <th>2021-03-05</th>\n",
       "      <td>48527.031250</td>\n",
       "      <td>49396.429688</td>\n",
       "      <td>46542.515625</td>\n",
       "      <td>48927.304688</td>\n",
       "      <td>48927.304688</td>\n",
       "      <td>48625928883</td>\n",
       "    </tr>\n",
       "    <tr>\n",
       "      <th>2021-03-06</th>\n",
       "      <td>48899.230469</td>\n",
       "      <td>49147.218750</td>\n",
       "      <td>47257.527344</td>\n",
       "      <td>48912.382813</td>\n",
       "      <td>48912.382813</td>\n",
       "      <td>34363564661</td>\n",
       "    </tr>\n",
       "    <tr>\n",
       "      <th>2021-03-07</th>\n",
       "      <td>48918.679688</td>\n",
       "      <td>51384.367188</td>\n",
       "      <td>48918.679688</td>\n",
       "      <td>51206.691406</td>\n",
       "      <td>51206.691406</td>\n",
       "      <td>43137459378</td>\n",
       "    </tr>\n",
       "    <tr>\n",
       "      <th>2021-03-08</th>\n",
       "      <td>51174.117188</td>\n",
       "      <td>52314.070313</td>\n",
       "      <td>49506.054688</td>\n",
       "      <td>52246.523438</td>\n",
       "      <td>52246.523438</td>\n",
       "      <td>48597428048</td>\n",
       "    </tr>\n",
       "    <tr>\n",
       "      <th>2021-03-09</th>\n",
       "      <td>52272.968750</td>\n",
       "      <td>54824.117188</td>\n",
       "      <td>51981.832031</td>\n",
       "      <td>54824.117188</td>\n",
       "      <td>54824.117188</td>\n",
       "      <td>50912227385</td>\n",
       "    </tr>\n",
       "  </tbody>\n",
       "</table>\n",
       "</div>"
      ],
      "text/plain": [
       "                    Open          High           Low         Close  \\\n",
       "Date                                                                 \n",
       "2021-03-05  48527.031250  49396.429688  46542.515625  48927.304688   \n",
       "2021-03-06  48899.230469  49147.218750  47257.527344  48912.382813   \n",
       "2021-03-07  48918.679688  51384.367188  48918.679688  51206.691406   \n",
       "2021-03-08  51174.117188  52314.070313  49506.054688  52246.523438   \n",
       "2021-03-09  52272.968750  54824.117188  51981.832031  54824.117188   \n",
       "\n",
       "               Adj Close       Volume  \n",
       "Date                                   \n",
       "2021-03-05  48927.304688  48625928883  \n",
       "2021-03-06  48912.382813  34363564661  \n",
       "2021-03-07  51206.691406  43137459378  \n",
       "2021-03-08  52246.523438  48597428048  \n",
       "2021-03-09  54824.117188  50912227385  "
      ]
     },
     "execution_count": 119,
     "metadata": {},
     "output_type": "execute_result"
    }
   ],
   "source": [
    "# Part 3 - Making the predictions and visualising the results\n",
    "\n",
    "# Getting the real stock price of 2020-21\n",
    "dataset_test = pd.read_csv('Resources/BTC-USD-21.csv',index_col=\"Date\",parse_dates=True)\n",
    "\n",
    "dataset_test.tail()"
   ]
  },
  {
   "cell_type": "code",
   "execution_count": 51,
   "metadata": {},
   "outputs": [],
   "source": [
    "real_stock_price = dataset_test.iloc[:, 1:2].values"
   ]
  },
  {
   "cell_type": "code",
   "execution_count": 120,
   "metadata": {},
   "outputs": [
    {
     "name": "stdout",
     "output_type": "stream",
     "text": [
      "<class 'pandas.core.frame.DataFrame'>\n",
      "DatetimeIndex: 29 entries, 2021-02-09 to 2021-03-09\n",
      "Data columns (total 6 columns):\n",
      " #   Column     Non-Null Count  Dtype  \n",
      "---  ------     --------------  -----  \n",
      " 0   Open       29 non-null     float64\n",
      " 1   High       29 non-null     float64\n",
      " 2   Low        29 non-null     float64\n",
      " 3   Close      29 non-null     float64\n",
      " 4   Adj Close  29 non-null     float64\n",
      " 5   Volume     29 non-null     int64  \n",
      "dtypes: float64(5), int64(1)\n",
      "memory usage: 1.6 KB\n"
     ]
    }
   ],
   "source": [
    "dataset_test.info()"
   ]
  },
  {
   "cell_type": "code",
   "execution_count": 121,
   "metadata": {},
   "outputs": [],
   "source": [
    "test_set=dataset_test['Open']\n",
    "test_set=pd.DataFrame(test_set)"
   ]
  },
  {
   "cell_type": "code",
   "execution_count": 122,
   "metadata": {},
   "outputs": [
    {
     "name": "stdout",
     "output_type": "stream",
     "text": [
      "<class 'pandas.core.frame.DataFrame'>\n",
      "DatetimeIndex: 29 entries, 2021-02-09 to 2021-03-09\n",
      "Data columns (total 1 columns):\n",
      " #   Column  Non-Null Count  Dtype  \n",
      "---  ------  --------------  -----  \n",
      " 0   Open    29 non-null     float64\n",
      "dtypes: float64(1)\n",
      "memory usage: 464.0 bytes\n"
     ]
    }
   ],
   "source": [
    "test_set.info()"
   ]
  },
  {
   "cell_type": "code",
   "execution_count": 123,
   "metadata": {},
   "outputs": [],
   "source": [
    "# Getting the predicted stock price of 2020-21\n",
    "dataset_total = pd.concat((dataset['Open'], dataset_test['Open']), axis = 0)\n",
    "inputs = dataset_total[len(dataset_total) - len(dataset_test) - 60:].values\n",
    "inputs = inputs.reshape(-1,1)\n",
    "inputs = sc.transform(inputs)\n",
    "X_test = []\n",
    "for i in range(60, 90):\n",
    "    X_test.append(inputs[i-60:i, 0])\n",
    "X_test = np.array(X_test)\n",
    "X_test = np.reshape(X_test, (X_test.shape[0], X_test.shape[1], 1))\n",
    "predicted_stock_price = regressor.predict(X_test)\n",
    "predicted_stock_price = sc.inverse_transform(predicted_stock_price)"
   ]
  },
  {
   "cell_type": "code",
   "execution_count": 124,
   "metadata": {},
   "outputs": [],
   "source": [
    "predicted_stock_price=pd.DataFrame(predicted_stock_price)\n"
   ]
  },
  {
   "cell_type": "code",
   "execution_count": 84,
   "metadata": {},
   "outputs": [
    {
     "data": {
      "image/png": "[encoded data removed]",
      "text/plain": [
       "<Figure size 1152x432 with 1 Axes>"
      ]
     },
     "metadata": {
      "needs_background": "light"
     },
     "output_type": "display_data"
    }
   ],
   "source": [
    "\n",
    "# Visualising the results\n",
    "fig = plt.figure()\n",
    "\n",
    "fig.set_size_inches(16, 6)\n",
    "\n",
    "\n",
    "plt.plot(real_stock_price, color = 'red', label = 'Bitcoin Stock Price')\n",
    "plt.plot(predicted_stock_price, color = 'blue', label = 'Predicted Bitcoin Stock Price')\n",
    "plt.title('Bitcoin Stock Price Prediction')\n",
    "plt.xlabel('Time')\n",
    "plt.ylabel('Bitcoin Stock Price')\n",
    "plt.legend()\n",
    "plt.show()\n",
    "\n",
    "\n",
    "\n"
   ]
  },
  {
   "cell_type": "code",
   "execution_count": null,
   "metadata": {},
   "outputs": [],
   "source": []
  },
  {
   "cell_type": "code",
   "execution_count": null,
   "metadata": {},
   "outputs": [],
   "source": []
  },
  {
   "cell_type": "code",
   "execution_count": null,
   "metadata": {},
   "outputs": [],
   "source": []
  },
  {
   "cell_type": "code",
   "execution_count": null,
   "metadata": {},
   "outputs": [],
   "source": []
  }
 ],
 "metadata": {
  "kernelspec": {
   "display_name": "Python 3",
   "language": "python",
   "name": "python3"
  },
  "language_info": {
   "codemirror_mode": {
    "name": "ipython",
    "version": 3
   },
   "file_extension": ".py",
   "mimetype": "text/x-python",
   "name": "python",
   "nbconvert_exporter": "python",
   "pygments_lexer": "ipython3",
   "version": "3.8.3"
  }
 },
 "nbformat": 4,
 "nbformat_minor": 2
}
